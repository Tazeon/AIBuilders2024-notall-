{
 "cells": [
  {
   "cell_type": "code",
   "execution_count": null,
   "id": "8727f156-0050-497e-839f-37e51c628109",
   "metadata": {},
   "outputs": [],
   "source": [
    "import numpy as np\n",
    "import pandas as pd\n",
    "import torch\n",
    "\n",
    "def get_grouped_mean():\n",
    "  names = ('sepallength', 'sepalwidth', 'petallength', 'petalwidth', 'species')\n",
    "  iris_data = pd.read_csv(url,names=names)\n",
    "\n",
    "  sepalwidth_mean = iris_data.groupby('species')['sepalwidth'].mean()\n",
    "\n",
    "  result = []\n",
    "  for species , mean_sepalwidth in sepalwidth_mean.items():\n",
    "    result.append([species.encode('utf-8'),round(mean_sepalwidth, 5)])\n",
    "  \n",
    "  return result\n",
    "\n",
    "url = 'https://archive.ics.uci.edu/ml/machine-learning-databases/iris/iris.data'\n",
    "result = get_grouped_mean()\n",
    "\n",
    "for i in result :\n",
    "  print(i)"
   ]
  }
 ],
 "metadata": {
  "kernelspec": {
   "display_name": "Python 3 (ipykernel)",
   "language": "python",
   "name": "python3"
  },
  "language_info": {
   "codemirror_mode": {
    "name": "ipython",
    "version": 3
   },
   "file_extension": ".py",
   "mimetype": "text/x-python",
   "name": "python",
   "nbconvert_exporter": "python",
   "pygments_lexer": "ipython3",
   "version": "3.11.7"
  }
 },
 "nbformat": 4,
 "nbformat_minor": 5
}
