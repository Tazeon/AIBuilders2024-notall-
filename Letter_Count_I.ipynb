{
 "cells": [
  {
   "cell_type": "code",
   "execution_count": 1,
   "id": "a1a02473-6dac-458c-8d60-d50ccadcf711",
   "metadata": {},
   "outputs": [
    {
     "name": "stdin",
     "output_type": "stream",
     "text": [
      "โปรดป้อนประโยค:  Hello apple pie\n"
     ]
    },
    {
     "name": "stdout",
     "output_type": "stream",
     "text": [
      "ผลลัพธ์: Hello\n"
     ]
    }
   ],
   "source": [
    "def LetterCountI(sentence):\n",
    "    words = sentence.split()\n",
    "\n",
    "    max_word = \"\"\n",
    "    max_count = 0\n",
    "\n",
    "    for word in words:\n",
    "        count = 0\n",
    "        for letter in word:\n",
    "            if word.count(letter) > 1:\n",
    "                count += 1\n",
    "\n",
    "        if count > max_count:\n",
    "            max_word = word\n",
    "            max_count = count\n",
    "\n",
    "    # ถ้าไม่มีคำที่มีตัวอักษรซ้ำกัน\n",
    "    if max_count == 0:\n",
    "        return -1\n",
    "    else:\n",
    "        return max_word\n",
    "\n",
    "# รับข้อความจากผู้ใช้\n",
    "input_sentence = input(\"โปรดป้อนประโยค: \")\n",
    "\n",
    "# เรียกใช้ฟังก์ชัน LetterCountI และแสดงผลลัพธ์\n",
    "result = LetterCountI(input_sentence)\n",
    "print(\"ผลลัพธ์:\", result)"
   ]
  },
  {
   "cell_type": "code",
   "execution_count": null,
   "id": "7c61b22c-eed8-4da2-b8af-8ebd6cf44c1e",
   "metadata": {},
   "outputs": [],
   "source": []
  }
 ],
 "metadata": {
  "kernelspec": {
   "display_name": "Python 3 (ipykernel)",
   "language": "python",
   "name": "python3"
  },
  "language_info": {
   "codemirror_mode": {
    "name": "ipython",
    "version": 3
   },
   "file_extension": ".py",
   "mimetype": "text/x-python",
   "name": "python",
   "nbconvert_exporter": "python",
   "pygments_lexer": "ipython3",
   "version": "3.11.7"
  }
 },
 "nbformat": 4,
 "nbformat_minor": 5
}
