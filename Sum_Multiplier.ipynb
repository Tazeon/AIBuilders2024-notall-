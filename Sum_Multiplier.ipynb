{
 "cells": [
  {
   "cell_type": "code",
   "execution_count": 7,
   "id": "26241bcb-2688-48de-aa75-a77f675bcf46",
   "metadata": {},
   "outputs": [
    {
     "name": "stdin",
     "output_type": "stream",
     "text": [
      " 1,1,2,10,3,1,12\n"
     ]
    },
    {
     "name": "stdout",
     "output_type": "stream",
     "text": [
      "true\n"
     ]
    }
   ],
   "source": [
    "def SumMultiplier(arr):\n",
    "    sum_arr = sum(arr)\n",
    "\n",
    "    max_sum = []\n",
    "    for i in range(len(arr)):\n",
    "        for j in range(i+1, len(arr)):\n",
    "             max_sum.append(arr[i] * arr[j])\n",
    "    \n",
    "    max_result = max(max_sum)\n",
    "    \n",
    "    if max_result > 2 * sum_arr:\n",
    "        return \"true\"\n",
    "    else:\n",
    "        return \"false\"\n",
    "\n",
    "arr = input()\n",
    "\n",
    "print(SumMultiplier(arr))"
   ]
  },
  {
   "cell_type": "code",
   "execution_count": null,
   "id": "209fe1d2-b489-40d0-9508-72646070333c",
   "metadata": {},
   "outputs": [],
   "source": [
    "def Two_sum():\n",
    "    list_sum=  []"
   ]
  }
 ],
 "metadata": {
  "kernelspec": {
   "display_name": "Python 3 (ipykernel)",
   "language": "python",
   "name": "python3"
  },
  "language_info": {
   "codemirror_mode": {
    "name": "ipython",
    "version": 3
   },
   "file_extension": ".py",
   "mimetype": "text/x-python",
   "name": "python",
   "nbconvert_exporter": "python",
   "pygments_lexer": "ipython3",
   "version": "3.11.7"
  }
 },
 "nbformat": 4,
 "nbformat_minor": 5
}
