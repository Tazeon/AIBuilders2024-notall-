{
 "cells": [
  {
   "cell_type": "code",
   "execution_count": 16,
   "id": "ad9d8820-538d-4748-bab4-5ae05170986f",
   "metadata": {},
   "outputs": [
    {
     "name": "stdin",
     "output_type": "stream",
     "text": [
      "  \"2hell6o3 wor6l7d2\"\n"
     ]
    },
    {
     "name": "stdout",
     "output_type": "stream",
     "text": [
      "true\n"
     ]
    }
   ],
   "source": [
    "def ThreeNumbers(str):\n",
    "  words =str.split()\n",
    "\n",
    "  for word in words:\n",
    "    filtered_word = \"\".join(char for char in word if char.isdigit())\n",
    "\n",
    "    if len(filtered_word) != 3:\n",
    "      return \"false\"\n",
    "    for i in range(2):\n",
    "      if filtered_word[i] == filtered_word[i+1]:\n",
    "        return \"false\"\n",
    "  return \"true\"\n",
    "# keep this function call here \n",
    "print(ThreeNumbers(input()))"
   ]
  },
  {
   "cell_type": "code",
   "execution_count": null,
   "id": "591dd3b5-584c-47ee-88f6-07f39b3797b4",
   "metadata": {},
   "outputs": [],
   "source": []
  }
 ],
 "metadata": {
  "kernelspec": {
   "display_name": "Python 3 (ipykernel)",
   "language": "python",
   "name": "python3"
  },
  "language_info": {
   "codemirror_mode": {
    "name": "ipython",
    "version": 3
   },
   "file_extension": ".py",
   "mimetype": "text/x-python",
   "name": "python",
   "nbconvert_exporter": "python",
   "pygments_lexer": "ipython3",
   "version": "3.11.7"
  }
 },
 "nbformat": 4,
 "nbformat_minor": 5
}
