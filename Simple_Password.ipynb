{
 "cells": [
  {
   "cell_type": "code",
   "execution_count": 2,
   "id": "afb22f1a-e563-48e6-be4c-d3d06941d461",
   "metadata": {},
   "outputs": [
    {
     "name": "stdin",
     "output_type": "stream",
     "text": [
      "โปรดป้อนสตริง:  \"turkey90AAA=\"\n"
     ]
    },
    {
     "name": "stdout",
     "output_type": "stream",
     "text": [
      "true\n"
     ]
    }
   ],
   "source": [
    "def SimplePassword(password):\n",
    "  capital = any(char.isupper() for char in password) #เช็คพิมพ์ใหญ๋\n",
    "  number = any(char.isdigit() for char in password) #เช็คเลข\n",
    "  punctuation = \"!@#$%^&*()-+=\"\n",
    "  has_punc = any(char in punctuation for char in password ) #เช็คตัวพิเศษ\n",
    "  nopassword = \"password\" in password.lower() #เช็ค คำว่า password เป็นรหัสมั้ย\n",
    "  lenght = 8 <= len(password) <= 30 #จำนวนต้อง 8-30\n",
    "\n",
    "  condition = capital and number and has_punc and not nopassword and lenght #รวมเงื่อนไข\n",
    "\n",
    "  return \"true\" if condition else \"false\"\n",
    "\n",
    "print(SimplePassword(input()))"
   ]
  },
  {
   "cell_type": "code",
   "execution_count": null,
   "id": "a9e9bf5d-e0d9-4a1a-b25c-6d8193c9781f",
   "metadata": {},
   "outputs": [],
   "source": []
  }
 ],
 "metadata": {
  "kernelspec": {
   "display_name": "Python 3 (ipykernel)",
   "language": "python",
   "name": "python3"
  },
  "language_info": {
   "codemirror_mode": {
    "name": "ipython",
    "version": 3
   },
   "file_extension": ".py",
   "mimetype": "text/x-python",
   "name": "python",
   "nbconvert_exporter": "python",
   "pygments_lexer": "ipython3",
   "version": "3.11.7"
  }
 },
 "nbformat": 4,
 "nbformat_minor": 5
}
