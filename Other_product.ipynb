{
 "cells": [
  {
   "cell_type": "code",
   "execution_count": null,
   "id": "dfe6433d-24d9-4b4c-811f-d94be19cdde4",
   "metadata": {},
   "outputs": [],
   "source": [
    "def OtherProducts(arr):\n",
    "  result = []\n",
    "  for i in range(len(arr)):\n",
    "    product = 1\n",
    "    for j in range(len(arr)):\n",
    "      if i != j:\n",
    "        product = product * arr[j]\n",
    "    result.append(product)\n",
    "  # code goes here\n",
    "  return '-'.join(map(str,result))\n",
    "\n",
    "\n",
    "# keep this function call here \n",
    "print(OtherProducts(input()))"
   ]
  }
 ],
 "metadata": {
  "kernelspec": {
   "display_name": "Python 3 (ipykernel)",
   "language": "python",
   "name": "python3"
  },
  "language_info": {
   "codemirror_mode": {
    "name": "ipython",
    "version": 3
   },
   "file_extension": ".py",
   "mimetype": "text/x-python",
   "name": "python",
   "nbconvert_exporter": "python",
   "pygments_lexer": "ipython3",
   "version": "3.11.7"
  }
 },
 "nbformat": 4,
 "nbformat_minor": 5
}
