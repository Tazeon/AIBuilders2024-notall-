{
 "cells": [
  {
   "cell_type": "code",
   "execution_count": 21,
   "id": "69fb0f3f-325c-4192-b10d-61037b06b3f1",
   "metadata": {},
   "outputs": [
    {
     "name": "stdin",
     "output_type": "stream",
     "text": [
      "Enter Number List :  5,10,15\n"
     ]
    },
    {
     "ename": "TypeError",
     "evalue": "'bool' object is not iterable",
     "output_type": "error",
     "traceback": [
      "\u001b[1;31m---------------------------------------------------------------------------\u001b[0m",
      "\u001b[1;31mTypeError\u001b[0m                                 Traceback (most recent call last)",
      "Cell \u001b[1;32mIn[21], line 21\u001b[0m\n\u001b[0;32m     17\u001b[0m input_list \u001b[38;5;241m=\u001b[39m input_list\u001b[38;5;241m.\u001b[39msplit(\u001b[38;5;124m'\u001b[39m\u001b[38;5;124m,\u001b[39m\u001b[38;5;124m'\u001b[39m)\n\u001b[0;32m     18\u001b[0m input_list \u001b[38;5;241m=\u001b[39m [\u001b[38;5;28mint\u001b[39m(x) \u001b[38;5;28;01mfor\u001b[39;00m x \u001b[38;5;129;01min\u001b[39;00m input_list]\n\u001b[1;32m---> 21\u001b[0m result \u001b[38;5;241m=\u001b[39m ArithGeo(input_list)\n\u001b[0;32m     22\u001b[0m \u001b[38;5;28mprint\u001b[39m(result)\n",
      "Cell \u001b[1;32mIn[21], line 4\u001b[0m, in \u001b[0;36mArithGeo\u001b[1;34m(arr)\u001b[0m\n\u001b[0;32m      1\u001b[0m \u001b[38;5;28;01mdef\u001b[39;00m \u001b[38;5;21mArithGeo\u001b[39m(arr):\n\u001b[0;32m      3\u001b[0m     \u001b[38;5;28;01mfor\u001b[39;00m i \u001b[38;5;129;01min\u001b[39;00m \u001b[38;5;28mrange\u001b[39m(\u001b[38;5;241m2\u001b[39m, \u001b[38;5;28mlen\u001b[39m(arr)):\n\u001b[1;32m----> 4\u001b[0m         is_arithmetic \u001b[38;5;241m=\u001b[39m \u001b[38;5;28mall\u001b[39m(arr[i] \u001b[38;5;241m-\u001b[39m arr[i\u001b[38;5;241m-\u001b[39m\u001b[38;5;241m1\u001b[39m] \u001b[38;5;241m==\u001b[39m arr[\u001b[38;5;241m1\u001b[39m] \u001b[38;5;241m-\u001b[39m arr[\u001b[38;5;241m0\u001b[39m])\n\u001b[0;32m      6\u001b[0m     \u001b[38;5;28;01mfor\u001b[39;00m i \u001b[38;5;129;01min\u001b[39;00m \u001b[38;5;28mrange\u001b[39m(\u001b[38;5;241m2\u001b[39m, \u001b[38;5;28mlen\u001b[39m(arr)):\n\u001b[0;32m      7\u001b[0m         is_geometric \u001b[38;5;241m=\u001b[39m \u001b[38;5;28mall\u001b[39m(arr[i] \u001b[38;5;241m/\u001b[39m arr[i\u001b[38;5;241m-\u001b[39m\u001b[38;5;241m1\u001b[39m] \u001b[38;5;241m==\u001b[39m arr[\u001b[38;5;241m1\u001b[39m] \u001b[38;5;241m/\u001b[39m arr[\u001b[38;5;241m0\u001b[39m])\n",
      "\u001b[1;31mTypeError\u001b[0m: 'bool' object is not iterable"
     ]
    }
   ],
   "source": [
    "def ArithGeo(arr):\n",
    "\n",
    "    for i in range(2, len(arr)):\n",
    "        is_arithmetic = all(arr[i] - arr[i-1] == arr[1] - arr[0])\n",
    "\n",
    "    for i in range(2, len(arr)):\n",
    "        is_geometric = all(arr[i] / arr[i-1] == arr[1] / arr[0])\n",
    "\n",
    "    if is_arithmetic:\n",
    "        return \"Arithmetic\"\n",
    "    elif is_geometric:\n",
    "        return \"Geometric\"\n",
    "    else:\n",
    "        return -1\n",
    "\n",
    "input_list = input(\"Enter Number List : \")\n",
    "input_list = input_list.split(',')\n",
    "input_list = [int(x) for x in input_list]\n",
    "\n",
    "\n",
    "result = ArithGeo(input_list)\n",
    "print(result)"
   ]
  },
  {
   "cell_type": "code",
   "execution_count": null,
   "id": "4c3c6cf7-7491-4eb2-ba2f-5512ec12b086",
   "metadata": {},
   "outputs": [],
   "source": []
  }
 ],
 "metadata": {
  "kernelspec": {
   "display_name": "Python 3 (ipykernel)",
   "language": "python",
   "name": "python3"
  },
  "language_info": {
   "codemirror_mode": {
    "name": "ipython",
    "version": 3
   },
   "file_extension": ".py",
   "mimetype": "text/x-python",
   "name": "python",
   "nbconvert_exporter": "python",
   "pygments_lexer": "ipython3",
   "version": "3.11.7"
  }
 },
 "nbformat": 4,
 "nbformat_minor": 5
}
