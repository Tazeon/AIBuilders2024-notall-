{
 "cells": [
  {
   "cell_type": "code",
   "execution_count": 1,
   "id": "a8b9419b-1508-4008-b13e-154a2ecf0dce",
   "metadata": {},
   "outputs": [
    {
     "name": "stdin",
     "output_type": "stream",
     "text": [
      "Please enter a string:  \"abcxabc\"\n"
     ]
    },
    {
     "name": "stdout",
     "output_type": "stream",
     "text": [
      "-1\n"
     ]
    }
   ],
   "source": [
    "def StringPeriods(strParam):\n",
    "  n = len(strParam)\n",
    "  max_substring = \"\"\n",
    "  max_length = 0\n",
    "  for i in range(1,n // 2+1):\n",
    "    substring = strParam[0:i]\n",
    "    repeat_count = n//len(substring)\n",
    "\n",
    "    if repeat_count * substring == strParam :\n",
    "      if len(substring) > max_length:\n",
    "        max_length = len(substring)\n",
    "        max_substring = substring\n",
    "  if max_length > 0:\n",
    "    return max_substring\n",
    "  else:\n",
    "    return -1\n",
    "\n",
    "print(StringPeriods(input()))"
   ]
  },
  {
   "cell_type": "code",
   "execution_count": null,
   "id": "1a9d7c66-0a71-41b6-b1e6-60d2d6440d74",
   "metadata": {},
   "outputs": [],
   "source": []
  }
 ],
 "metadata": {
  "kernelspec": {
   "display_name": "Python 3 (ipykernel)",
   "language": "python",
   "name": "python3"
  },
  "language_info": {
   "codemirror_mode": {
    "name": "ipython",
    "version": 3
   },
   "file_extension": ".py",
   "mimetype": "text/x-python",
   "name": "python",
   "nbconvert_exporter": "python",
   "pygments_lexer": "ipython3",
   "version": "3.11.7"
  }
 },
 "nbformat": 4,
 "nbformat_minor": 5
}
