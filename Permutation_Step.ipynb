{
 "cells": [
  {
   "cell_type": "code",
   "execution_count": null,
   "id": "f0dcd68d-f64b-4944-841b-cccd0c01c630",
   "metadata": {},
   "outputs": [],
   "source": [
    "from itertools import permutations\n",
    "\n",
    "def PermutationStep(num):\n",
    "  num_str = str(num)\n",
    "  perm_set = {int(''.join(p)) for p in permutations(num_str)}\n",
    "  greater_nums = [n for n in perm_set if n > num]\n",
    "  # code goes here\n",
    "  if greater_nums:\n",
    "    return min(greater_nums)\n",
    "  else:\n",
    "    return -1\n",
    "\n",
    "# keep this function call here \n",
    "print(PermutationStep(input()))"
   ]
  }
 ],
 "metadata": {
  "kernelspec": {
   "display_name": "Python 3 (ipykernel)",
   "language": "python",
   "name": "python3"
  },
  "language_info": {
   "codemirror_mode": {
    "name": "ipython",
    "version": 3
   },
   "file_extension": ".py",
   "mimetype": "text/x-python",
   "name": "python",
   "nbconvert_exporter": "python",
   "pygments_lexer": "ipython3",
   "version": "3.11.7"
  }
 },
 "nbformat": 4,
 "nbformat_minor": 5
}
